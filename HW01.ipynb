{
 "cells": [
  {
   "cell_type": "markdown",
   "metadata": {},
   "source": [
    "# HW01\n",
    "\n",
    "## 這個作業主要的目的是希望同學們了解善用模組跟套件可以很容易取得問題的快速解。"
   ]
  },
  {
   "cell_type": "markdown",
   "metadata": {},
   "source": [
    "## Q1. 請使用 python 讀入 Nasdaq 公司資訊！\n",
    "\n",
    "提示：\n",
    "1. 請先找到 Nasdaq Company List 的 .csv 檔的網址。\n",
    "2. 使用 pandas 套件的 read_csv 函式來讀入 .csv 檔。"
   ]
  },
  {
   "cell_type": "code",
   "execution_count": 3,
   "metadata": {
    "collapsed": true
   },
   "outputs": [],
   "source": [
    "import pandas as pd"
   ]
  },
  {
   "cell_type": "code",
   "execution_count": 4,
   "metadata": {
    "collapsed": true
   },
   "outputs": [],
   "source": [
    "url=\"http://www.nasdaq.com/screening/companies-by-industry.aspx?exchange=NASDAQ&render=download\"\n",
    "df=pd.read_csv(url)"
   ]
  },
  {
   "cell_type": "code",
   "execution_count": 5,
   "metadata": {},
   "outputs": [
    {
     "data": {
      "text/plain": [
       "<bound method NDFrame.head of      Symbol                                    Name LastSale     MarketCap  \\\n",
       "0       PIH  1347 Property Insurance Holdings, Inc.        7  4.169736e+07   \n",
       "1      TURN                180 Degree Capital Corp.     1.97  6.130948e+07   \n",
       "2      FLWS                 1-800 FLOWERS.COM, Inc.      9.3  6.006424e+08   \n",
       "3      FCCY           1st Constitution Bancorp (NJ)     17.7  1.428312e+08   \n",
       "4      SRCE                  1st Source Corporation    47.87  1.241563e+09   \n",
       "5      VNET                    21Vianet Group, Inc.     7.37  4.399288e+08   \n",
       "6      TWOU                                2U, Inc.    63.65  3.308590e+09   \n",
       "7      JOBS                             51job, Inc.    61.86  2.276038e+09   \n",
       "8      CAFD              8point3 Energy Partners LP    15.15  1.198137e+09   \n",
       "9      EGHT                                 8x8 Inc     14.2  1.303968e+09   \n",
       "10     AVHI                         A V Homes, Inc.    16.35  3.671505e+08   \n",
       "11     SHLM                       A. Schulman, Inc.     38.3  1.129846e+09   \n",
       "12     AAON                              AAON, Inc.     34.4  1.809565e+09   \n",
       "13     ABAX                            ABAXIS, Inc.    45.93  1.042180e+09   \n",
       "14     ABEO                Abeona Therapeutics Inc.     15.1  7.046001e+08   \n",
       "15    ABEOW                Abeona Therapeutics Inc.     9.95  0.000000e+00   \n",
       "16     ABIL                            Ability Inc.   0.6031  1.553353e+07   \n",
       "17     ABMD                           ABIOMED, Inc.   196.97  8.706228e+09   \n",
       "18     ABLX                               Ablynx NV    21.28  2.432304e+08   \n",
       "19     AXAS           Abraxas Petroleum Corporation     2.18  3.615528e+08   \n",
       "20     ACIU                            AC Immune SA    11.99  6.824977e+08   \n",
       "21     ACIA             Acacia Communications, Inc.     36.9  1.447518e+09   \n",
       "22     ACTG             Acacia Research Corporation     4.15  2.099794e+08   \n",
       "23     ACHC         Acadia Healthcare Company, Inc.    29.14  2.560054e+09   \n",
       "24     ACAD             ACADIA Pharmaceuticals Inc.    29.41  3.599793e+09   \n",
       "25     ACST                     Acasti Pharma, Inc.     1.26  1.856728e+07   \n",
       "26     AXDX            Accelerate Diagnostics, Inc.     18.9  1.045136e+09   \n",
       "27     ACCP                Accelerated Pharma, Inc.      n/a  0.000000e+00   \n",
       "28     XLRN                   Acceleron Pharma Inc.    35.95  1.614201e+09   \n",
       "29     ANCX             Access National Corporation    27.16  5.553334e+08   \n",
       "...     ...                                     ...      ...           ...   \n",
       "3268   YERR       Yangtze River Development Limited    15.85  2.731659e+09   \n",
       "3269   YTRA                      Yatra Online, Inc.     7.95  2.689394e+08   \n",
       "3270   YTEN                Yield10 Bioscience, Inc.     2.89  1.000435e+07   \n",
       "3271    YIN     Yintech Investment Holdings Limited    12.88  1.436540e+08   \n",
       "3272   YOGA                         YogaWorks, Inc.     2.81  4.609349e+07   \n",
       "3273   YGYI          Youngevity International, Inc.      4.7  9.248738e+07   \n",
       "3274   YRCW                     YRC Worldwide, Inc.    13.08  4.386016e+08   \n",
       "3275   YECO            Yulong Eco-Materials Limited     0.62  7.474301e+06   \n",
       "3276     YY                                 YY Inc.     89.4  4.203807e+09   \n",
       "3277   ZFGN                            Zafgen, Inc.     3.72  1.022402e+08   \n",
       "3278   ZAGG                                ZAGG Inc     19.2  5.369205e+08   \n",
       "3279   ZLAB                         Zai Lab Limited     27.2  1.600176e+08   \n",
       "3280   ZAIS               ZAIS Group Holdings, Inc.     3.72  5.461251e+07   \n",
       "3281   ZEAL                      Zealand Pharma A/S    14.73  6.441064e+07   \n",
       "3282   ZBRA          Zebra Technologies Corporation   106.61  5.661869e+09   \n",
       "3283      Z                      Zillow Group, Inc.    41.04  7.679745e+09   \n",
       "3284     ZG                      Zillow Group, Inc.    41.15  7.700329e+09   \n",
       "3285     ZN                      Zion Oil & Gas Inc     2.11  1.095355e+08   \n",
       "3286  ZNWAA                      Zion Oil & Gas Inc      n/a  0.000000e+00   \n",
       "3287   ZION                    Zions Bancorporation    44.54  8.895172e+09   \n",
       "3288  ZIONW                    Zions Bancorporation    12.89  0.000000e+00   \n",
       "3289  ZIONZ                    Zions Bancorporation    10.06  0.000000e+00   \n",
       "3290   ZIOP                   ZIOPHARM Oncology Inc     4.72  6.700644e+08   \n",
       "3291   ZIXI                         Zix Corporation     4.68  2.584399e+08   \n",
       "3292   ZKIN         ZK International Group Co., Ltd     7.26  9.801000e+07   \n",
       "3293   ZGNX                           Zogenix, Inc.    37.55  9.327826e+08   \n",
       "3294   ZSAN               Zosano Pharma Corporation    0.675  2.648032e+07   \n",
       "3295   ZUMZ                             Zumiez Inc.     17.1  4.314427e+08   \n",
       "3296   ZYNE           Zynerba Pharmaceuticals, Inc.     10.9  1.445043e+08   \n",
       "3297   ZNGA                              Zynga Inc.     3.83  3.314715e+09   \n",
       "\n",
       "       ADR TSO IPOyear             Sector  \\\n",
       "0          n/a    2014            Finance   \n",
       "1          n/a     n/a            Finance   \n",
       "2          n/a    1999  Consumer Services   \n",
       "3          n/a     n/a            Finance   \n",
       "4          n/a     n/a            Finance   \n",
       "5     59691833    2011         Technology   \n",
       "6          n/a    2014         Technology   \n",
       "7     36793371    2004         Technology   \n",
       "8          n/a    2015   Public Utilities   \n",
       "9          n/a     n/a   Public Utilities   \n",
       "10         n/a     n/a      Capital Goods   \n",
       "11         n/a    1972   Basic Industries   \n",
       "12         n/a     n/a      Capital Goods   \n",
       "13         n/a    1992      Capital Goods   \n",
       "14         n/a     n/a        Health Care   \n",
       "15         n/a     n/a        Health Care   \n",
       "16         n/a    2014            Finance   \n",
       "17         n/a     n/a        Health Care   \n",
       "18    11430000    2017        Health Care   \n",
       "19         n/a     n/a             Energy   \n",
       "20         n/a    2016        Health Care   \n",
       "21         n/a    2016         Technology   \n",
       "22         n/a     n/a      Miscellaneous   \n",
       "23         n/a     n/a        Health Care   \n",
       "24         n/a    2004        Health Care   \n",
       "25         n/a     n/a        Health Care   \n",
       "26         n/a     n/a      Capital Goods   \n",
       "27         n/a     n/a                n/a   \n",
       "28         n/a    2013        Health Care   \n",
       "29         n/a     n/a            Finance   \n",
       "...        ...     ...                ...   \n",
       "3268       n/a     n/a            Finance   \n",
       "3269       n/a     n/a  Consumer Services   \n",
       "3270       n/a     n/a   Basic Industries   \n",
       "3271  11153257    2016            Finance   \n",
       "3272       n/a    2017  Consumer Services   \n",
       "3273       n/a     n/a  Consumer Services   \n",
       "3274       n/a     n/a     Transportation   \n",
       "3275       n/a    2017      Capital Goods   \n",
       "3276  47022454    2012         Technology   \n",
       "3277       n/a    2014        Health Care   \n",
       "3278       n/a     n/a  Consumer Services   \n",
       "3279   5883000    2017        Health Care   \n",
       "3280       n/a    2013            Finance   \n",
       "3281   4372752    2017        Health Care   \n",
       "3282       n/a    1991         Technology   \n",
       "3283       n/a     n/a      Miscellaneous   \n",
       "3284       n/a    2011      Miscellaneous   \n",
       "3285       n/a     n/a             Energy   \n",
       "3286       n/a     n/a             Energy   \n",
       "3287       n/a     n/a            Finance   \n",
       "3288       n/a     n/a            Finance   \n",
       "3289       n/a     n/a            Finance   \n",
       "3290       n/a     n/a        Health Care   \n",
       "3291       n/a     n/a         Technology   \n",
       "3292       n/a    2017      Capital Goods   \n",
       "3293       n/a    2010        Health Care   \n",
       "3294       n/a    2015        Health Care   \n",
       "3295       n/a    2005  Consumer Services   \n",
       "3296       n/a    2015        Health Care   \n",
       "3297       n/a    2011         Technology   \n",
       "\n",
       "                                               Industry  \\\n",
       "0                            Property-Casualty Insurers   \n",
       "1                            Finance/Investors Services   \n",
       "2                                Other Specialty Stores   \n",
       "3                                  Savings Institutions   \n",
       "4                                           Major Banks   \n",
       "5       Computer Software: Programming, Data Processing   \n",
       "6               Computer Software: Prepackaged Software   \n",
       "7                       Diversified Commercial Services   \n",
       "8                           Electric Utilities: Central   \n",
       "9                          Telecommunications Equipment   \n",
       "10                                         Homebuilding   \n",
       "11                                      Major Chemicals   \n",
       "12                      Industrial Machinery/Components   \n",
       "13                      Industrial Machinery/Components   \n",
       "14                                Major Pharmaceuticals   \n",
       "15                                Major Pharmaceuticals   \n",
       "16                                    Business Services   \n",
       "17                           Medical/Dental Instruments   \n",
       "18    Biotechnology: Biological Products (No Diagnos...   \n",
       "19                                 Oil & Gas Production   \n",
       "20                                Major Pharmaceuticals   \n",
       "21                                       Semiconductors   \n",
       "22                               Multi-Sector Companies   \n",
       "23                                 Medical Specialities   \n",
       "24                                Major Pharmaceuticals   \n",
       "25                                Major Pharmaceuticals   \n",
       "26     Biotechnology: Laboratory Analytical Instruments   \n",
       "27                                                  n/a   \n",
       "28    Biotechnology: Biological Products (No Diagnos...   \n",
       "29                                 Savings Institutions   \n",
       "...                                                 ...   \n",
       "3268                                        Real Estate   \n",
       "3269                            Transportation Services   \n",
       "3270                               Containers/Packaging   \n",
       "3271                 Investment Bankers/Brokers/Service   \n",
       "3272                            Other Consumer Services   \n",
       "3273                     Catalog/Specialty Distribution   \n",
       "3274                  Trucking Freight/Courier Services   \n",
       "3275                                 Building Materials   \n",
       "3276                                       EDP Services   \n",
       "3277                              Major Pharmaceuticals   \n",
       "3278                             Other Specialty Stores   \n",
       "3279                              Major Pharmaceuticals   \n",
       "3280                                Investment Managers   \n",
       "3281                              Major Pharmaceuticals   \n",
       "3282                    Industrial Machinery/Components   \n",
       "3283                                  Business Services   \n",
       "3284                                  Business Services   \n",
       "3285                               Oil & Gas Production   \n",
       "3286                               Oil & Gas Production   \n",
       "3287                                        Major Banks   \n",
       "3288                                        Major Banks   \n",
       "3289                                        Major Banks   \n",
       "3290                              Major Pharmaceuticals   \n",
       "3291                                       EDP Services   \n",
       "3292                                 Metal Fabrications   \n",
       "3293                              Major Pharmaceuticals   \n",
       "3294                              Major Pharmaceuticals   \n",
       "3295                     Clothing/Shoe/Accessory Stores   \n",
       "3296                              Major Pharmaceuticals   \n",
       "3297                                       EDP Services   \n",
       "\n",
       "                           Summary Quote  Unnamed: 9  \n",
       "0       http://www.nasdaq.com/symbol/pih         NaN  \n",
       "1      http://www.nasdaq.com/symbol/turn         NaN  \n",
       "2      http://www.nasdaq.com/symbol/flws         NaN  \n",
       "3      http://www.nasdaq.com/symbol/fccy         NaN  \n",
       "4      http://www.nasdaq.com/symbol/srce         NaN  \n",
       "5      http://www.nasdaq.com/symbol/vnet         NaN  \n",
       "6      http://www.nasdaq.com/symbol/twou         NaN  \n",
       "7      http://www.nasdaq.com/symbol/jobs         NaN  \n",
       "8      http://www.nasdaq.com/symbol/cafd         NaN  \n",
       "9      http://www.nasdaq.com/symbol/eght         NaN  \n",
       "10     http://www.nasdaq.com/symbol/avhi         NaN  \n",
       "11     http://www.nasdaq.com/symbol/shlm         NaN  \n",
       "12     http://www.nasdaq.com/symbol/aaon         NaN  \n",
       "13     http://www.nasdaq.com/symbol/abax         NaN  \n",
       "14     http://www.nasdaq.com/symbol/abeo         NaN  \n",
       "15    http://www.nasdaq.com/symbol/abeow         NaN  \n",
       "16     http://www.nasdaq.com/symbol/abil         NaN  \n",
       "17     http://www.nasdaq.com/symbol/abmd         NaN  \n",
       "18     http://www.nasdaq.com/symbol/ablx         NaN  \n",
       "19     http://www.nasdaq.com/symbol/axas         NaN  \n",
       "20     http://www.nasdaq.com/symbol/aciu         NaN  \n",
       "21     http://www.nasdaq.com/symbol/acia         NaN  \n",
       "22     http://www.nasdaq.com/symbol/actg         NaN  \n",
       "23     http://www.nasdaq.com/symbol/achc         NaN  \n",
       "24     http://www.nasdaq.com/symbol/acad         NaN  \n",
       "25     http://www.nasdaq.com/symbol/acst         NaN  \n",
       "26     http://www.nasdaq.com/symbol/axdx         NaN  \n",
       "27     http://www.nasdaq.com/symbol/accp         NaN  \n",
       "28     http://www.nasdaq.com/symbol/xlrn         NaN  \n",
       "29     http://www.nasdaq.com/symbol/ancx         NaN  \n",
       "...                                  ...         ...  \n",
       "3268   http://www.nasdaq.com/symbol/yerr         NaN  \n",
       "3269   http://www.nasdaq.com/symbol/ytra         NaN  \n",
       "3270   http://www.nasdaq.com/symbol/yten         NaN  \n",
       "3271    http://www.nasdaq.com/symbol/yin         NaN  \n",
       "3272   http://www.nasdaq.com/symbol/yoga         NaN  \n",
       "3273   http://www.nasdaq.com/symbol/ygyi         NaN  \n",
       "3274   http://www.nasdaq.com/symbol/yrcw         NaN  \n",
       "3275   http://www.nasdaq.com/symbol/yeco         NaN  \n",
       "3276     http://www.nasdaq.com/symbol/yy         NaN  \n",
       "3277   http://www.nasdaq.com/symbol/zfgn         NaN  \n",
       "3278   http://www.nasdaq.com/symbol/zagg         NaN  \n",
       "3279   http://www.nasdaq.com/symbol/zlab         NaN  \n",
       "3280   http://www.nasdaq.com/symbol/zais         NaN  \n",
       "3281   http://www.nasdaq.com/symbol/zeal         NaN  \n",
       "3282   http://www.nasdaq.com/symbol/zbra         NaN  \n",
       "3283      http://www.nasdaq.com/symbol/z         NaN  \n",
       "3284     http://www.nasdaq.com/symbol/zg         NaN  \n",
       "3285     http://www.nasdaq.com/symbol/zn         NaN  \n",
       "3286  http://www.nasdaq.com/symbol/znwaa         NaN  \n",
       "3287   http://www.nasdaq.com/symbol/zion         NaN  \n",
       "3288  http://www.nasdaq.com/symbol/zionw         NaN  \n",
       "3289  http://www.nasdaq.com/symbol/zionz         NaN  \n",
       "3290   http://www.nasdaq.com/symbol/ziop         NaN  \n",
       "3291   http://www.nasdaq.com/symbol/zixi         NaN  \n",
       "3292   http://www.nasdaq.com/symbol/zkin         NaN  \n",
       "3293   http://www.nasdaq.com/symbol/zgnx         NaN  \n",
       "3294   http://www.nasdaq.com/symbol/zsan         NaN  \n",
       "3295   http://www.nasdaq.com/symbol/zumz         NaN  \n",
       "3296   http://www.nasdaq.com/symbol/zyne         NaN  \n",
       "3297   http://www.nasdaq.com/symbol/znga         NaN  \n",
       "\n",
       "[3298 rows x 10 columns]>"
      ]
     },
     "execution_count": 5,
     "metadata": {},
     "output_type": "execute_result"
    }
   ],
   "source": [
    "df.head"
   ]
  },
  {
   "cell_type": "markdown",
   "metadata": {},
   "source": [
    "## Q2. 請使用 python 畫中山大學管理學院周邊地圖！\n",
    "\n",
    "提示：\n",
    "\n",
    "1. 使用 geocoder 套件來找出地址的 GPS 座標。\n",
    "2. 使用 folium 套件來顯示地圖。"
   ]
  },
  {
   "cell_type": "code",
   "execution_count": 1,
   "metadata": {
    "collapsed": true
   },
   "outputs": [],
   "source": [
    "import folium"
   ]
  },
  {
   "cell_type": "code",
   "execution_count": 2,
   "metadata": {
    "collapsed": true
   },
   "outputs": [],
   "source": [
    "import geocoder"
   ]
  },
  {
   "cell_type": "code",
   "execution_count": 3,
   "metadata": {
    "collapsed": true
   },
   "outputs": [],
   "source": [
    "location = geocoder.google('中山大學管理學院').latlng"
   ]
  },
  {
   "cell_type": "code",
   "execution_count": 4,
   "metadata": {},
   "outputs": [
    {
     "data": {
      "text/plain": [
       "[22.627447, 120.265274]"
      ]
     },
     "execution_count": 4,
     "metadata": {},
     "output_type": "execute_result"
    }
   ],
   "source": [
    "location"
   ]
  },
  {
   "cell_type": "code",
   "execution_count": 5,
   "metadata": {},
   "outputs": [
    {
     "data": {
      "text/html": [
       "<div style=\"width:100%;\"><div style=\"position:relative;width:100%;height:0;padding-bottom:60%;\"><iframe src=\"data:text/html;charset=utf-8;base64,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\" style=\"position:absolute;width:100%;height:100%;left:0;top:0;border:none !important;\" allowfullscreen webkitallowfullscreen mozallowfullscreen></iframe></div></div>"
      ],
      "text/plain": [
       "<folium.folium.Map at 0x9216630>"
      ]
     },
     "execution_count": 5,
     "metadata": {},
     "output_type": "execute_result"
    }
   ],
   "source": [
    "folium.Map (location=location)"
   ]
  },
  {
   "cell_type": "markdown",
   "metadata": {},
   "source": [
    "## Q3. 請使用 python 將新聞中可能的關鍵詞萃取出來！ (Bonus)\n",
    "\n",
    "提示：\n",
    "\n",
    "1. 使用老師提供的 util.py 來擷取鉅亨網上特定新聞的內容。\n",
    "2. 使用 jieba 套件來擷取關鍵詞。"
   ]
  },
  {
   "cell_type": "code",
   "execution_count": 1,
   "metadata": {
    "collapsed": true
   },
   "outputs": [],
   "source": [
    "import util"
   ]
  },
  {
   "cell_type": "code",
   "execution_count": 2,
   "metadata": {
    "collapsed": true
   },
   "outputs": [],
   "source": [
    "news_text = util.get_news_article('https://news.cnyes.com/news/id/3956525')"
   ]
  },
  {
   "cell_type": "code",
   "execution_count": 3,
   "metadata": {},
   "outputs": [
    {
     "data": {
      "text/plain": [
       "'根據 IHS Markit 研調數據顯示，今年第 3 季全球智慧型手機出貨 3.66 億台，年增 6.1%，蘋果新機 iPhone8 及 iPhoneX 上市影響逐步顯現，iPhone 出貨年增 2.6%，前五大品牌廠排名，三星仍然居冠，蘋果居次，其餘則是中國品牌華為、OPPO、小米等，第 3 季出貨皆較去年同期成長。\\nIHS Markit 統計，小米重新擠進全球第五，第 3 季出貨較去年同期增加\\xa0111.2%，出貨量\\xa02760 萬支，略微領先 Vivo，重回前五大，Vivo 則以 2540 萬支，居全球第六，但出貨仍較去年同期成長\\xa020.4%。\\n三星第 3 季智慧手機出貨 8340 萬支，年增 7.7%，全球市占率增至 23%，年增 1 個百分點，由於中國市場逐步被本土品牌占领，三星在中國市場拓展略顯乏力。\\n蘋果第 3 季度智慧手機出貨 4670 萬支，年增 2.6%；在中國區整體收入年增 12%，挽回近期中國市場衰退窘境，在美國則是年增 14%，在歐洲年增 20%，亞洲地區年增 5 %，日本的銷售收入則年減 11%；由於 iPhone 8 在第 3 季度末正式發售，iPhone X 在上周開始銷售，較明顯的出貨貢獻時間將在第 4 季。\\n華為持續穩定守住全球第三，第 3 季智慧手機出貨 3910 萬支，年增 16.4%，全球市占率增至 11%，受惠在本土市場具備品牌優勢，出貨持續领先。\\nOPPO 和 VIVO\\xa0在第 3 季都穩定成長，OPPO 智慧手機出貨 3160 萬支，年增 17.9%；Vivo 出貨 2540 萬支，年增 20.4%；兩個品牌全球市占率分別是 9% 及 % 來看，皆較去年略微成長。\\n'"
      ]
     },
     "execution_count": 3,
     "metadata": {},
     "output_type": "execute_result"
    }
   ],
   "source": [
    "news_text"
   ]
  }
 ],
 "metadata": {
  "kernelspec": {
   "display_name": "Python 3",
   "language": "python",
   "name": "python3"
  },
  "language_info": {
   "codemirror_mode": {
    "name": "ipython",
    "version": 3
   },
   "file_extension": ".py",
   "mimetype": "text/x-python",
   "name": "python",
   "nbconvert_exporter": "python",
   "pygments_lexer": "ipython3",
   "version": "3.6.3"
  }
 },
 "nbformat": 4,
 "nbformat_minor": 2
}
