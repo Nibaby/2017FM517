{
 "cells": [
  {
   "cell_type": "code",
   "execution_count": 4,
   "metadata": {},
   "outputs": [],
   "source": [
    "import requests\n",
    "from bs4 import BeautifulSoup"
   ]
  },
  {
   "cell_type": "code",
   "execution_count": 9,
   "metadata": {},
   "outputs": [],
   "source": [
    "from util import get_news_article"
   ]
  },
  {
   "cell_type": "code",
   "execution_count": 10,
   "metadata": {
    "collapsed": true
   },
   "outputs": [],
   "source": [
    "url = \"https://news.cnyes.com/news/id/3953479\""
   ]
  },
  {
   "cell_type": "code",
   "execution_count": 31,
   "metadata": {},
   "outputs": [
    {
     "name": "stdout",
     "output_type": "stream",
     "text": [
      "據《彭博社》，美國總統川普 (Donald Trump) 待聯準會 (Fed) 主席葉倫 (Janet Yellen) 任期於 2018 年 2 月屆滿以後，預期將提名聯準會理事鮑威爾 (Jerome Powell) 接掌，或將改變貨幣政策與美國經濟走向。\n",
      "提名一旦經由參議院通過，鮑威爾預計將於央行逐步緊縮與開始縮減資產負債表之際，接掌最具全球影響力的貨幣機構。預期鮑威爾將於任命聽證會上，闡釋他的政策觀，《彭博社》也整理其過去對於利率等重要議題相關言論。\n",
      "鮑威爾今年 10 月中演講時曾說：「只要美國經濟進展大致符合預期，貨幣政策常態化即應該持續漸進式地進行。」至於縮表計畫，他也認為應該逐步地進行，每月縮減規模上限應緩慢階段性的增加。\n",
      "但他今年 6 月接受《CNBC》訪問曾表示，「我覺得很難見到資產負債表降至低於 2.5 兆美元，估計可能位在 2.5 兆至 3 兆美元，這樣的估計是假設我們未來 5 年常態化資產負債表。」\n",
      "至於消費價格，鮑威爾 8 月受訪曾表示，美國通膨仍有些低於目標，而且在勞動市場緊縮情況下，低通膨的原因就像是個謎。他也認為 2% 通膨目標仍相當合理。\n",
      "經濟增長、失業率與薪資方面，鮑威爾 6 月演講時曾說過，「我最基本的預期就是，經濟將持續以大約 2% 步伐成長，就業新增強勁與勞動市場持續緊縮，而通膨將向上朝我們的目標移動。」\n",
      "鮑威爾預期美國失業率將進一步下滑，並持續一段時間維持在低水位，或能為勞動市場帶來更多人力，進而推升薪資增長，或隨著勞動成本上升促使企業投資增加，這些也都將被視為理想結果。\n",
      "\n"
     ]
    }
   ],
   "source": [
    "news_text = get_news_article(url)\n",
    "print(news_text)"
   ]
  },
  {
   "cell_type": "code",
   "execution_count": 32,
   "metadata": {},
   "outputs": [],
   "source": [
    "r = requests.get(url)\n",
    "r.encoding = \"UTF-8\""
   ]
  },
  {
   "cell_type": "code",
   "execution_count": 33,
   "metadata": {},
   "outputs": [
    {
     "name": "stderr",
     "output_type": "stream",
     "text": [
      "C:\\Users\\ROSE\\Anaconda3\\lib\\site-packages\\bs4\\__init__.py:181: UserWarning: No parser was explicitly specified, so I'm using the best available HTML parser for this system (\"lxml\"). This usually isn't a problem, but if you run this code on another system, or in a different virtual environment, it may use a different parser and behave differently.\n",
      "\n",
      "The code that caused this warning is on line 193 of the file C:\\Users\\ROSE\\Anaconda3\\lib\\runpy.py. To get rid of this warning, change code that looks like this:\n",
      "\n",
      " BeautifulSoup(YOUR_MARKUP})\n",
      "\n",
      "to this:\n",
      "\n",
      " BeautifulSoup(YOUR_MARKUP, \"lxml\")\n",
      "\n",
      "  markup_type=markup_type))\n"
     ]
    }
   ],
   "source": [
    "soup = BeautifulSoup(r.text)"
   ]
  },
  {
   "cell_type": "code",
   "execution_count": 34,
   "metadata": {},
   "outputs": [
    {
     "data": {
      "text/plain": [
       "'據《彭博社》，美國總統川普 (Donald Trump) 待聯準會 (Fed) 主席葉倫 (Janet Yellen) 任期於 2018 年 2 月屆滿以後，預期將提名聯準會理事鮑威爾 (Jerome Powell) 接掌，或將改變貨幣政策與美國經濟走向。'"
      ]
     },
     "execution_count": 34,
     "metadata": {},
     "output_type": "execute_result"
    }
   ],
   "source": [
    "news_summary = soup.find(\"div\",{\"itemprop\":\"articleBody\"}).find_all(\"p\")[0].text\n",
    "news_summary"
   ]
  },
  {
   "cell_type": "code",
   "execution_count": 35,
   "metadata": {},
   "outputs": [],
   "source": [
    "import jieba\n",
    "import jieba.analyse"
   ]
  },
  {
   "cell_type": "code",
   "execution_count": 36,
   "metadata": {},
   "outputs": [],
   "source": [
    "jieba.set_dictionary('dict.txt.big')"
   ]
  },
  {
   "cell_type": "code",
   "execution_count": 39,
   "metadata": {
    "scrolled": true
   },
   "outputs": [
    {
     "name": "stderr",
     "output_type": "stream",
     "text": [
      "Building prefix dict from C:\\Users\\ROSE\\Desktop\\nini_python\\2017FM517-master\\2017FM517-master\\dict.txt.big ...\n",
      "Dumping model to file cache C:\\Users\\ROSE\\AppData\\Local\\Temp\\jieba.u79df0a807a3c7ed66ad5297476ae4f8f.cache\n",
      "Loading model cost 3.236 seconds.\n",
      "Prefix dict has been built succesfully.\n"
     ]
    }
   ],
   "source": [
    "keywords = jieba.analyse.extract_tags(news_text, topK=10,withWeight=False)"
   ]
  },
  {
   "cell_type": "code",
   "execution_count": 40,
   "metadata": {},
   "outputs": [
    {
     "name": "stdout",
     "output_type": "stream",
     "text": [
      "鮑威爾/美國/預期/經濟/持續/勞動/緊縮/資產/負債表/目標\n"
     ]
    }
   ],
   "source": [
    "print (\"/\".join(keywords))"
   ]
  },
  {
   "cell_type": "code",
   "execution_count": 44,
   "metadata": {},
   "outputs": [
    {
     "data": {
      "text/plain": [
       "\"[('鮑威爾', 0.4023239063475961), ('美國', 0.28737421881971154), ('預期', 0.28737421881971154), ('經濟', 0.2298993750557692), ('持續', 0.2298993750557692), ('勞動', 0.2298993750557692), ('緊縮', 0.17242453129182692), ('資產', 0.17242453129182692), ('負債表', 0.17242453129182692), ('目標', 0.17242453129182692), ('市場', 0.17242453129182692), ('接掌', 0.1181849974951923), ('貨幣政策', 0.1149496875278846), ('將於', 0.1149496875278846), ('縮減', 0.1149496875278846), ('演講時', 0.1149496875278846), ('常態', 0.1149496875278846), ('應該', 0.1149496875278846), ('進行', 0.1149496875278846), ('至於', 0.1149496875278846)]\""
      ]
     },
     "execution_count": 44,
     "metadata": {},
     "output_type": "execute_result"
    }
   ],
   "source": [
    "repr(jieba.analyse.extract_tags(news_text,topK=20, withWeight=True))"
   ]
  },
  {
   "cell_type": "code",
   "execution_count": 45,
   "metadata": {},
   "outputs": [
    {
     "data": {
      "text/plain": [
       "\"[('計畫', 1.0), ('提名', 0.9956299978355836), ('促使', 0.9956299978355836), ('接掌', 0.6710989546902303), ('整理', 0.6710989546902303), ('表示', 0.6710989546902303), ('原因', 0.6710989546902303), ('步伐', 0.6710989546902303), ('能為', 0.6710989546902303), ('推升', 0.6710989546902303), ('視為', 0.6710989546902303), ('全球', 0.6661439916061673), ('利率', 0.6661439916061673), ('膨仍', 0.6661439916061673), ('像是', 0.6661439916061673), ('新增', 0.6661439916061673), ('水位', 0.6661439916061673), ('人力', 0.6661439916061673), ('理想', 0.6661439916061673), ('認為', 0.5063206818730139)]\""
      ]
     },
     "execution_count": 45,
     "metadata": {},
     "output_type": "execute_result"
    }
   ],
   "source": [
    "repr(jieba.analyse.textrank(news_text,topK=20,withWeight=True))"
   ]
  },
  {
   "cell_type": "code",
   "execution_count": 47,
   "metadata": {
    "collapsed": true
   },
   "outputs": [],
   "source": [
    "def index_of_keyword(sentence, keyword):\n",
    "    for i, s in enumerate(sentences):\n",
    "        if keyword in s:\n",
    "            return i\n",
    "    return -1    "
   ]
  },
  {
   "cell_type": "code",
   "execution_count": 48,
   "metadata": {},
   "outputs": [
    {
     "data": {
      "text/plain": [
       "11"
      ]
     },
     "execution_count": 48,
     "metadata": {},
     "output_type": "execute_result"
    }
   ],
   "source": [
    "sentences = news_text.replace(\"\\n\",\"\").split(u\"。\")\n",
    "len(sentences)"
   ]
  },
  {
   "cell_type": "code",
   "execution_count": 49,
   "metadata": {},
   "outputs": [
    {
     "name": "stdout",
     "output_type": "stream",
     "text": [
      "據《彭博社》，美國總統川普 (Donald Trump) 待聯準會 (Fed) 主席葉倫 (Janet Yellen) 任期於 2018 年 2 月屆滿以後，預期將提名聯準會理事鮑威爾 (Jerome Powell) 接掌，或將改變貨幣政策與美國經濟走向。\n",
      "提名一旦經由參議院通過，鮑威爾預計將於央行逐步緊縮與開始縮減資產負債表之際，接掌最具全球影響力的貨幣機構。\n",
      "預期鮑威爾將於任命聽證會上，闡釋他的政策觀，《彭博社》也整理其過去對於利率等重要議題相關言論。\n",
      "鮑威爾今年 10 月中演講時曾說：「只要美國經濟進展大致符合預期，貨幣政策常態化即應該持續漸進式地進行。\n",
      "」至於縮表計畫，他也認為應該逐步地進行，每月縮減規模上限應緩慢階段性的增加。\n",
      "但他今年 6 月接受《CNBC》訪問曾表示，「我覺得很難見到資產負債表降至低於 2.5 兆美元，估計可能位在 2.5 兆至 3 兆美元，這樣的估計是假設我們未來 5 年常態化資產負債表。\n",
      "」至於消費價格，鮑威爾 8 月受訪曾表示，美國通膨仍有些低於目標，而且在勞動市場緊縮情況下，低通膨的原因就像是個謎。\n",
      "他也認為 2% 通膨目標仍相當合理。\n",
      "經濟增長、失業率與薪資方面，鮑威爾 6 月演講時曾說過，「我最基本的預期就是，經濟將持續以大約 2% 步伐成長，就業新增強勁與勞動市場持續緊縮，而通膨將向上朝我們的目標移動。\n",
      "」鮑威爾預期美國失業率將進一步下滑，並持續一段時間維持在低水位，或能為勞動市場帶來更多人力，進而推升薪資增長，或隨著勞動成本上升促使企業投資增加，這些也都將被視為理想結果。\n",
      "。\n"
     ]
    }
   ],
   "source": [
    "for sentence in sentences:\n",
    "    print (sentence + u\"。\")"
   ]
  },
  {
   "cell_type": "code",
   "execution_count": 71,
   "metadata": {},
   "outputs": [
    {
     "data": {
      "text/plain": [
       "0"
      ]
     },
     "execution_count": 71,
     "metadata": {},
     "output_type": "execute_result"
    }
   ],
   "source": [
    "index_of_keyword(sentences,u\"鮑威爾\")"
   ]
  },
  {
   "cell_type": "code",
   "execution_count": 72,
   "metadata": {},
   "outputs": [
    {
     "name": "stdout",
     "output_type": "stream",
     "text": [
      "據《彭博社》，美國總統川普 (Donald Trump) 待聯準會 (Fed) 主席葉倫 (Janet Yellen) 任期於 2018 年 2 月屆滿以後，預期將提名聯準會理事鮑威爾 (Jerome Powell) 接掌，或將改變貨幣政策與美國經濟走向。\n"
     ]
    }
   ],
   "source": [
    "print (sentences[index_of_keyword(sentences,u\"鮑威爾\")]+u\"。\")"
   ]
  },
  {
   "cell_type": "code",
   "execution_count": 73,
   "metadata": {},
   "outputs": [
    {
     "data": {
      "text/plain": [
       "127"
      ]
     },
     "execution_count": 73,
     "metadata": {},
     "output_type": "execute_result"
    }
   ],
   "source": [
    "len(sentences[0])"
   ]
  },
  {
   "cell_type": "code",
   "execution_count": 74,
   "metadata": {},
   "outputs": [],
   "source": [
    "s_index = []\n",
    "for keyword in keywords[:3]:\n",
    "    s_index.append(index_of_keyword(sentences,keyword))\n",
    "    \n",
    "s_set = set(s_index)\n",
    "s_index = list(s_set)"
   ]
  },
  {
   "cell_type": "code",
   "execution_count": 75,
   "metadata": {},
   "outputs": [],
   "source": [
    "summary = \"\"\n",
    "for i in s_index:\n",
    "    summary += sentences[i]+u\"。\""
   ]
  },
  {
   "cell_type": "code",
   "execution_count": 76,
   "metadata": {},
   "outputs": [
    {
     "name": "stdout",
     "output_type": "stream",
     "text": [
      "據《彭博社》，美國總統川普 (Donald Trump) 待聯準會 (Fed) 主席葉倫 (Janet Yellen) 任期於 2018 年 2 月屆滿以後，預期將提名聯準會理事鮑威爾 (Jerome Powell) 接掌，或將改變貨幣政策與美國經濟走向。\n"
     ]
    }
   ],
   "source": [
    "print (summary)"
   ]
  },
  {
   "cell_type": "code",
   "execution_count": 77,
   "metadata": {},
   "outputs": [
    {
     "name": "stdout",
     "output_type": "stream",
     "text": [
      "據《彭博社》，美國總統川普 (Donald Trump) 待聯準會 (Fed) 主席葉倫 (Janet Yellen) 任期於 2018 年 2 月屆滿以後，預期將提名聯準會理事鮑威爾 (Jerome Powell) 接掌，或將改變貨幣政策與美國經濟走向。\n"
     ]
    }
   ],
   "source": [
    "print (news_summary)"
   ]
  }
 ],
 "metadata": {
  "kernelspec": {
   "display_name": "Python 3",
   "language": "python",
   "name": "python3"
  },
  "language_info": {
   "codemirror_mode": {
    "name": "ipython",
    "version": 3
   },
   "file_extension": ".py",
   "mimetype": "text/x-python",
   "name": "python",
   "nbconvert_exporter": "python",
   "pygments_lexer": "ipython3",
   "version": "3.6.3"
  }
 },
 "nbformat": 4,
 "nbformat_minor": 2
}
